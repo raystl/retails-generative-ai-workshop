{
 "cells": [
  {
   "cell_type": "markdown",
   "id": "1013c5bd",
   "metadata": {},
   "source": [
    "<h1> Create Response To Customer Reviews - Sentiment Analysis </h1>\n",
    "<br>\n",
    "\n",
    "Before starting, please make sure this notebook is using **conda_python3** kernel from the top right!\n",
    "\n",
    "Run all the cells and inspect the output of each cell."
   ]
  },
  {
   "cell_type": "markdown",
   "id": "cd0cd6f9",
   "metadata": {},
   "source": [
    "### Introduction\n",
    "\n",
    "In this notebook, you will create response to customer reviews using Text-to-Text LLM from Amazon Bedrock. We will create the prompt that instructs the LLM to add a sentence to the response if the customer review is negative. \n",
    "\n",
    "![Sentiment Analysis](../images/sentiment-analysis.png)"
   ]
  },
  {
   "cell_type": "markdown",
   "id": "53e898b5",
   "metadata": {},
   "source": [
    "### Install required dependencies\n",
    "\n",
    "**Important:** You may see an error or a warning that \"you may need to restart the kernel\" from the following cell. **Ignore** and proceed with the next cells. "
   ]
  },
  {
   "cell_type": "code",
   "execution_count": null,
   "id": "f12f3611",
   "metadata": {},
   "outputs": [],
   "source": [
    "%pip install --quiet --no-build-isolation --upgrade \\\n",
    "    \"boto3==1.28.63\" \\\n",
    "    \"awscli==1.29.63\" \\\n",
    "    \"botocore==1.31.63\" \\\n",
    "    \"langchain==0.0.309\""
   ]
  },
  {
   "cell_type": "markdown",
   "id": "c9623f47",
   "metadata": {},
   "source": [
    "<h3> Import required packages </h3>"
   ]
  },
  {
   "cell_type": "code",
   "execution_count": null,
   "id": "9866eb34",
   "metadata": {},
   "outputs": [],
   "source": [
    "import json\n",
    "import os\n",
    "import sys\n",
    "import boto3\n",
    "import botocore\n",
    "from langchain import PromptTemplate\n",
    "from langchain.llms.bedrock import Bedrock\n",
    "\n",
    "module_path = \"..\"\n",
    "sys.path.append(os.path.abspath(module_path))\n",
    "from utils import bedrock, print_ww"
   ]
  },
  {
   "cell_type": "markdown",
   "id": "93dc20fc",
   "metadata": {},
   "source": [
    "<h3> Initialize Bedrock client </h3><br>\n",
    "\n",
    "We will use the [Boto client](https://boto3.amazonaws.com/v1/documentation/api/latest/reference/services/bedrock.html) for Bedrock to invoke the Bedrock APIs and call the LLMs. "
   ]
  },
  {
   "cell_type": "code",
   "execution_count": null,
   "id": "8ca5e849",
   "metadata": {},
   "outputs": [],
   "source": [
    " boto3_bedrock = bedrock.get_bedrock_client(\n",
    "    assumed_role=os.environ.get(\"BEDROCK_ASSUME_ROLE\", None),\n",
    "    region=os.environ.get(\"AWS_DEFAULT_REGION\", None)\n",
    ")"
   ]
  },
  {
   "cell_type": "markdown",
   "id": "3455ebb0",
   "metadata": {},
   "source": [
    "<h3> Initialize the LLM </h3>\n",
    "<p> Using Langchain, initialize the ClaudeInstant LLM. </p>"
   ]
  },
  {
   "cell_type": "code",
   "execution_count": null,
   "id": "bbecb1b5",
   "metadata": {},
   "outputs": [],
   "source": [
    "# Passing Anthropic Claude as model ID\n",
    "\n",
    "textgen_llm = Bedrock(\n",
    "            model_id=\"anthropic.claude-instant-v1\",\n",
    "            client=boto3_bedrock\n",
    "        )"
   ]
  },
  {
   "cell_type": "markdown",
   "id": "b12f566c",
   "metadata": {},
   "source": [
    "### Prompt template \n",
    "\n",
    "Create a prompt template with the variables: product name, customer name, manager name, manager contact, customer review, response length. \n",
    "\n",
    "Using this prompt, we will ask the LLM to add a sentence to reach out to the manager directly with their phone number **IF the customer review is negative**.  \n",
    "\n",
    "Read the template parameter carefully to understand the prompting instructions."
   ]
  },
  {
   "cell_type": "code",
   "execution_count": null,
   "id": "6f3a0bef",
   "metadata": {},
   "outputs": [],
   "source": [
    "prompt_template = PromptTemplate(\n",
    "            input_variables=[\"product_name\",\"customer_name\",\"manager_name\",\"email\",\"phone\",\"length\",\"review\"], \n",
    "            template=\"\"\"\n",
    "                    Human: \n",
    "                    \n",
    "                    I'm the manager of re:Invent retails. \n",
    "                    \n",
    "                    Draft a response for the review of the product {product_name} from our customer {customer_name}. \n",
    "                    The number of words should be less than {length}. \n",
    "                    \n",
    "                    My contact information is email: {email}, phone: {phone}.\n",
    "                    \n",
    "                    <customer_review>\n",
    "                        {review}\n",
    "                    <customer_review>\n",
    "\n",
    "                    <example_response_pattern>\n",
    "                    \n",
    "                        Dear <customer_name>,\n",
    "                        <content_body>\n",
    "\n",
    "                        <if negative review> \n",
    "                            Don't hesitate to reach out to me at {phone}.\n",
    "                        <end if> \n",
    "\n",
    "                        Sincerely,\n",
    "                        {manager_name}\n",
    "                        <signature>\n",
    "                        {email}\n",
    "                        \n",
    "                    </example_response_pattern>\n",
    "                    \n",
    "                    Assistant:\n",
    "                    \n",
    "                    \"\"\"\n",
    "                )"
   ]
  },
  {
   "cell_type": "markdown",
   "id": "ae25f2be",
   "metadata": {},
   "source": [
    "Do you notice this line? \n",
    "\n",
    "\\<if negative review\\> <br>\n",
    "  &nbsp;&nbsp;&nbsp; &nbsp;    Don't hesitate to reach out to me at {phone}. <br>\n",
    "\\<end if\\> <br>\n",
    "\n",
    "Later in this notebook, you will see how this works. "
   ]
  },
  {
   "cell_type": "markdown",
   "id": "0ae3a85a",
   "metadata": {},
   "source": [
    "<h3>Create sample input variables</h3>\n",
    "\n",
    "We create input variables that will be used to construct our prompt. This prompt will be passed to the LLM to create review response."
   ]
  },
  {
   "cell_type": "code",
   "execution_count": null,
   "id": "a212c4e8",
   "metadata": {},
   "outputs": [],
   "source": [
    "# Product that was reviewed by the customer \n",
    "product_name=\"Treadlite Shoe\"\n",
    "\n",
    "# Customer name\n",
    "customer_name = \"David Bush\"\n",
    "\n",
    "# Manager name\n",
    "manager_name = \"Austin Lee\"\n",
    "\n",
    "# Store manager contact\n",
    "my_email = \"retail.manager@reinventretails.com\"\n",
    "my_phone = \"024-555-1234\"\n",
    "\n",
    "# Review posted\n",
    "customer_review = \"\"\"I've owned these shoes for about 6 months now and have put over 300 miles on them. \n",
    "                 They are super lightweight and provide excellent cushioning and support for long runs. \n",
    "                 The breathable mesh keeps my feet from overheating even on hot summer days. \n",
    "                 The only minor issue is that the tread is starting to show some light wear \n",
    "                 but for a $200 shoe I'm really impressed with the durability. \n",
    "                 Overall these are a fantastic value for any serious runner.\"\"\"\n",
    "\n",
    "# Length of the desired product description (generated from LLM)\n",
    "max_length = 100"
   ]
  },
  {
   "cell_type": "markdown",
   "id": "a1a22292",
   "metadata": {},
   "source": [
    "<p> Now, let's construct the prompt by passing all the input variables to the prompt template. </p>"
   ]
  },
  {
   "cell_type": "code",
   "execution_count": null,
   "id": "fd573394",
   "metadata": {},
   "outputs": [],
   "source": [
    "prompt = prompt_template.format(product_name=product_name,\n",
    "                                customer_name=customer_name,\n",
    "                                manager_name=manager_name,\n",
    "                                email=my_email,\n",
    "                                phone=my_phone,\n",
    "                                length=max_length,\n",
    "                                review=customer_review)"
   ]
  },
  {
   "cell_type": "markdown",
   "id": "6698fd69",
   "metadata": {},
   "source": [
    "<h3> Call Bedrock with the constructed prompt </h3>"
   ]
  },
  {
   "cell_type": "code",
   "execution_count": null,
   "id": "44c5933a",
   "metadata": {},
   "outputs": [],
   "source": [
    "response = textgen_llm(prompt)\n",
    "print_ww(response)"
   ]
  },
  {
   "cell_type": "markdown",
   "id": "0b03d271",
   "metadata": {},
   "source": [
    "<h4> Now let's pass in a negative review to Bedrock to see how the model responds </h4>"
   ]
  },
  {
   "cell_type": "code",
   "execution_count": null,
   "id": "9cae50ce",
   "metadata": {},
   "outputs": [],
   "source": [
    "customer_name=\"Anthony Lopez\"\n",
    "\n",
    "# Negative review posted\n",
    "customer_review = \"\"\"Treadlite shoes promise lightweight comfort, but they failed to deliver for me. \n",
    "                     Within a few weeks of regular use, the thin material started wearing down already. \n",
    "                     There are holes forming on the sides and small tears along the seams. \n",
    "                     The fabric just does not feel durable enough. \n",
    "                     Additionally, I found these shoes to be poorly cushioned. \n",
    "                     After a 5 mile run, my feet and knees were sore from the lack of support and bounce. \n",
    "                     It was like running directly on the hard pavement. \n",
    "                     The shoe provides almost no impact absorption for a runner.\n",
    "                     The sizing is also off. I bought my normal size but the shoes feel restrictive, \n",
    "                     like my feet are being squeezed. They did not stretch or mold to the \n",
    "                     shape of my foot over time like other running shoes. \n",
    "                     It's an uncomfortable fit that leaves my feet feeling constricted after runs.\n",
    "                     Between the lack of cushioning, poor durability of materials, and sizing issues, \n",
    "                     these Treadlite shoes have been a big disappointment. \n",
    "                     For a brand focused on running, the design flaws mean they are not well-suited \n",
    "                     for the needs of active individuals. I cannot recommend these shoes \n",
    "                     and would not purchase from this brand again based on my experience. \n",
    "                     Runners deserve better quality and performance than what Treadlite provided.\"\"\""
   ]
  },
  {
   "cell_type": "code",
   "execution_count": null,
   "id": "8d4d8898",
   "metadata": {},
   "outputs": [],
   "source": [
    "prompt = prompt_template.format(product_name=product_name,\n",
    "                                customer_name=customer_name,\n",
    "                                manager_name=manager_name,\n",
    "                                email=my_email,\n",
    "                                phone=my_phone,\n",
    "                                length=max_length,\n",
    "                                review=customer_review)"
   ]
  },
  {
   "cell_type": "code",
   "execution_count": null,
   "id": "dd48328d",
   "metadata": {},
   "outputs": [],
   "source": [
    "response = textgen_llm(prompt)\n",
    "print_ww(response)"
   ]
  },
  {
   "cell_type": "markdown",
   "id": "b9401474",
   "metadata": {},
   "source": [
    "Notice the extra sentence added by the model in the message body providing store manager's phone number and offering a call. It is because of our prompting instruction for negative reviews within \\<example_response_pattern\\>\\<\\/example_response_pattern\\>. \n",
    "                    \n",
    "\\<example_response_pattern\\> \\\n",
    "<br>\n",
    "    &nbsp;&nbsp;&nbsp;&nbsp;Dear \\<customer_name\\>, \\\n",
    "    &nbsp;&nbsp;&nbsp;&nbsp;\\<content_body\\> \\\n",
    "    <br>\n",
    "    <b>\n",
    "    &nbsp;&nbsp;&nbsp;&nbsp;\\<if negative review\\> \\\n",
    "        &nbsp;&nbsp;&nbsp;&nbsp;&nbsp;&nbsp;&nbsp;&nbsp;Don't hesitate to reach out to me at {phone}. \\\n",
    "    &nbsp;&nbsp;&nbsp;&nbsp;\\<end if\\> \\\n",
    "    </b>\n",
    "    <br>\n",
    "    &nbsp;&nbsp;&nbsp;&nbsp;Sincerely, \\\n",
    "    &nbsp;&nbsp;&nbsp;&nbsp;\\<signature\\> \\\n",
    "    &nbsp;&nbsp;&nbsp;&nbsp;{email} \\\n",
    "    &nbsp;&nbsp;&nbsp;&nbsp;<br>\n",
    "\\<\\/example_response_pattern\\>"
   ]
  },
  {
   "cell_type": "markdown",
   "id": "e9d5ccbf",
   "metadata": {},
   "source": [
    "<h3> You've successfully drafted response to the customer reviews for a product with Amazon Bedrock!</h3>\n",
    "\n",
    "Please stop the notebook kernel by selecting **Kernel -> Interrupt**.\n",
    "\n",
    "#### Now, let's integrate this feature into our retail web application. Please go back to Workshop Studio and follow the instructions to build this feature using your Cloud9 IDE."
   ]
  },
  {
   "cell_type": "code",
   "execution_count": null,
   "id": "97600a76",
   "metadata": {},
   "outputs": [],
   "source": []
  }
 ],
 "metadata": {
  "kernelspec": {
   "display_name": "conda_python3",
   "language": "python",
   "name": "conda_python3"
  },
  "language_info": {
   "codemirror_mode": {
    "name": "ipython",
    "version": 3
   },
   "file_extension": ".py",
   "mimetype": "text/x-python",
   "name": "python",
   "nbconvert_exporter": "python",
   "pygments_lexer": "ipython3",
   "version": "3.10.13"
  }
 },
 "nbformat": 4,
 "nbformat_minor": 5
}
